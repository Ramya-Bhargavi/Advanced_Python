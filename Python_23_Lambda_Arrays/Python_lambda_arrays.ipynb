{
  "nbformat": 4,
  "nbformat_minor": 0,
  "metadata": {
    "colab": {
      "provenance": []
    },
    "kernelspec": {
      "name": "python3",
      "display_name": "Python 3"
    },
    "language_info": {
      "name": "python"
    }
  },
  "cells": [
    {
      "cell_type": "markdown",
      "source": [
        "A lambda function is a small anonymous function.\n",
        "\n",
        "A lambda function can take any number of arguments, but can only have one expression.\n",
        "\n",
        "**Syntax**\n",
        "\n",
        "lambda arguments : expression\n",
        "The expression is executed and the result is returned:\n",
        "\n",
        "**Example**\n",
        "Add 10 to argument a, and return the result:"
      ],
      "metadata": {
        "id": "-zOFjhvHc14d"
      }
    },
    {
      "cell_type": "code",
      "execution_count": null,
      "metadata": {
        "colab": {
          "base_uri": "https://localhost:8080/"
        },
        "id": "kCQRm2-4cvaa",
        "outputId": "bf8bbdbe-b985-4ff2-c7e2-70abea005ce5"
      },
      "outputs": [
        {
          "output_type": "stream",
          "name": "stdout",
          "text": [
            "26\n"
          ]
        }
      ],
      "source": [
        "x = lambda a : a + 20\n",
        "print(x(6))"
      ]
    },
    {
      "cell_type": "markdown",
      "source": [
        "Lambda functions can take any number of arguments:\n",
        "\n",
        "**Example**\n",
        "\n",
        "Multiply argument a with argument b and return the result:"
      ],
      "metadata": {
        "id": "ia7Q4sHbdOsP"
      }
    },
    {
      "cell_type": "code",
      "source": [
        "x = lambda a, b : a - b\n",
        "print(x(13, 6))"
      ],
      "metadata": {
        "colab": {
          "base_uri": "https://localhost:8080/"
        },
        "id": "_xEGqWAXdUG8",
        "outputId": "c52b07cd-0e79-40cf-c669-d94f1ab060e1"
      },
      "execution_count": null,
      "outputs": [
        {
          "output_type": "stream",
          "name": "stdout",
          "text": [
            "7\n"
          ]
        }
      ]
    },
    {
      "cell_type": "markdown",
      "source": [
        "**Example**\n",
        "\n",
        "Summarize argument a, b, and c and return the result:"
      ],
      "metadata": {
        "id": "lwrZm2EFddHk"
      }
    },
    {
      "cell_type": "code",
      "source": [
        "# error\n",
        "x = lambda a, b : a + b\n",
        "print(x(5, 6)) \n",
        "\n",
        "x = lambda a,b ,c : a + b +c \n",
        "print(x(5, 6)) "
      ],
      "metadata": {
        "colab": {
          "base_uri": "https://localhost:8080/",
          "height": 218
        },
        "id": "R0gA5YRLdg51",
        "outputId": "f9563a4d-f36b-4fee-d9bf-432ed35d3ad2"
      },
      "execution_count": null,
      "outputs": [
        {
          "output_type": "stream",
          "name": "stdout",
          "text": [
            "11\n"
          ]
        },
        {
          "output_type": "error",
          "ename": "TypeError",
          "evalue": "ignored",
          "traceback": [
            "\u001b[0;31m---------------------------------------------------------------------------\u001b[0m",
            "\u001b[0;31mTypeError\u001b[0m                                 Traceback (most recent call last)",
            "\u001b[0;32m<ipython-input-20-5b825c936fdc>\u001b[0m in \u001b[0;36m<cell line: 5>\u001b[0;34m()\u001b[0m\n\u001b[1;32m      3\u001b[0m \u001b[0;34m\u001b[0m\u001b[0m\n\u001b[1;32m      4\u001b[0m \u001b[0mx\u001b[0m \u001b[0;34m=\u001b[0m \u001b[0;32mlambda\u001b[0m \u001b[0ma\u001b[0m\u001b[0;34m,\u001b[0m\u001b[0mb\u001b[0m \u001b[0;34m,\u001b[0m\u001b[0mc\u001b[0m \u001b[0;34m:\u001b[0m \u001b[0ma\u001b[0m \u001b[0;34m+\u001b[0m \u001b[0mb\u001b[0m \u001b[0;34m+\u001b[0m\u001b[0mc\u001b[0m\u001b[0;34m\u001b[0m\u001b[0;34m\u001b[0m\u001b[0m\n\u001b[0;32m----> 5\u001b[0;31m \u001b[0mprint\u001b[0m\u001b[0;34m(\u001b[0m\u001b[0mx\u001b[0m\u001b[0;34m(\u001b[0m\u001b[0;36m5\u001b[0m\u001b[0;34m,\u001b[0m \u001b[0;36m6\u001b[0m\u001b[0;34m)\u001b[0m\u001b[0;34m)\u001b[0m\u001b[0;34m\u001b[0m\u001b[0;34m\u001b[0m\u001b[0m\n\u001b[0m",
            "\u001b[0;31mTypeError\u001b[0m: <lambda>() missing 1 required positional argument: 'c'"
          ]
        }
      ]
    },
    {
      "cell_type": "markdown",
      "source": [
        "**Why Use Lambda Functions?**\n",
        "\n",
        "The power of lambda is better shown when you use them as an anonymous function inside another function.\n",
        "\n",
        "Say you have a function definition that takes one argument, and that argument will be multiplied with an unknown number:"
      ],
      "metadata": {
        "id": "znWdR3f3dn46"
      }
    },
    {
      "cell_type": "code",
      "source": [
        "def myfunc(n):\n",
        "  return lambda a : a * n"
      ],
      "metadata": {
        "id": "zTnCQC6qdsjF"
      },
      "execution_count": null,
      "outputs": []
    },
    {
      "cell_type": "code",
      "source": [
        "def myfunc(n):\n",
        "  return lambda a : a * n\n",
        "\n",
        "mydoubler = myfunc(2)\n",
        "\n",
        "print(mydoubler(11))"
      ],
      "metadata": {
        "colab": {
          "base_uri": "https://localhost:8080/"
        },
        "id": "UCf-8Nksdy0s",
        "outputId": "37de22ae-1457-41f7-cec6-0e39a77853d1"
      },
      "execution_count": null,
      "outputs": [
        {
          "output_type": "stream",
          "name": "stdout",
          "text": [
            "22\n"
          ]
        }
      ]
    },
    {
      "cell_type": "markdown",
      "source": [
        "Or, use the same function definition to make a function that always triples the number you send in:"
      ],
      "metadata": {
        "id": "34uOck04d4o0"
      }
    },
    {
      "cell_type": "code",
      "source": [
        "def myfunc(n):\n",
        "  return lambda a : a * n\n",
        "\n",
        "mytripler = myfunc(3)\n",
        "\n",
        "print(mytripler(11))"
      ],
      "metadata": {
        "colab": {
          "base_uri": "https://localhost:8080/"
        },
        "id": "4pAkfMfFd7we",
        "outputId": "662bdbdb-a951-4d73-b1ca-13a803484d63"
      },
      "execution_count": null,
      "outputs": [
        {
          "output_type": "stream",
          "name": "stdout",
          "text": [
            "33\n"
          ]
        }
      ]
    },
    {
      "cell_type": "code",
      "source": [
        "# use the same function definition to make both functions, in the same program:\n",
        "\n",
        "def myfunc(n):\n",
        "  return lambda a : a * n\n",
        "\n",
        "mydoubler = myfunc(2)\n",
        "mytripler = myfunc(3)\n",
        "\n",
        "print(mydoubler(11))\n",
        "print(mytripler(22))"
      ],
      "metadata": {
        "id": "KkzEqV4ueCO-",
        "colab": {
          "base_uri": "https://localhost:8080/"
        },
        "outputId": "52d9c532-fe7f-4cd9-97b9-f9facd99b49e"
      },
      "execution_count": null,
      "outputs": [
        {
          "output_type": "stream",
          "name": "stdout",
          "text": [
            "22\n",
            "66\n"
          ]
        }
      ]
    },
    {
      "cell_type": "markdown",
      "source": [
        "**Use lambda functions when an anonymous function is required for a short period of time.**"
      ],
      "metadata": {
        "id": "7fCvZW4XeIuB"
      }
    },
    {
      "cell_type": "markdown",
      "source": [
        "# ARRAYS :"
      ],
      "metadata": {
        "id": "soXHLK1DVCWH"
      }
    },
    {
      "cell_type": "markdown",
      "source": [
        "**Arrays**\n",
        "\n",
        "Note: This page shows you how to use LISTS as ARRAYS, however, to work with arrays in Python you will have to import a library, like the NumPy library.\n",
        "\n",
        "Arrays are used to store multiple values in one single variable:"
      ],
      "metadata": {
        "id": "OgTm0qE-VFkb"
      }
    },
    {
      "cell_type": "code",
      "source": [
        "#Create an array containing car names:\n",
        "\n",
        "cars = [\"Ford\", \"Volvo\", \"BMW\"]\n",
        "\n",
        "# ALL THE OPERATIONS IN ARRAYS ARE SAME AS IN LISTS BUT FOR SOME EXTRA OPERATIONS WE NEED TO IMPORT OTHER LIBRARIES WHCIH CAN BE SEEN IN NEXT NOTEBOOKS"
      ],
      "metadata": {
        "id": "FZGiEP7LVE-S"
      },
      "execution_count": null,
      "outputs": []
    }
  ]
}